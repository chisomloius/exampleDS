{
 "cells": [
  {
   "cell_type": "markdown",
   "id": "36d7f01e-ef96-4b7b-813f-b1cfdb0fcc5f",
   "metadata": {},
   "source": [
    "# Analysis on New York City Restaurants"
   ]
  },
  {
   "cell_type": "code",
   "execution_count": 1,
   "id": "61d34d52-f3ef-4570-96d7-fbc8c3696c33",
   "metadata": {},
   "outputs": [],
   "source": [
    "# import libraries\n",
    "%matplotlib inline\n",
    "%timeit\n",
    "import pandas as pd\n",
    "import numpy as np\n",
    "import matplotlib as mpl\n",
    "import matplotlib.pyplot as plt\n",
    "import seaborn as sns"
   ]
  },
  {
   "cell_type": "markdown",
   "id": "4809ff84-ba29-495e-be54-0fb0711b27f4",
   "metadata": {},
   "source": [
    "### Data Loading"
   ]
  },
  {
   "cell_type": "code",
   "execution_count": null,
   "id": "bfc93f71-482e-436d-8006-1c80db05d11a",
   "metadata": {},
   "outputs": [],
   "source": [
    "df = pd.read_csv('./data/food_order.csv')"
   ]
  },
  {
   "cell_type": "code",
   "execution_count": null,
   "id": "f1c0bbac-8bdc-4c10-b152-dbd258989d3a",
   "metadata": {},
   "outputs": [],
   "source": [
    "# Task 1: Load the dataset food order.csv into a pandas DataFrame.\n"
   ]
  },
  {
   "cell_type": "code",
   "execution_count": null,
   "id": "b46b30a2-5627-4b46-bfba-a52816db5e32",
   "metadata": {},
   "outputs": [],
   "source": [
    "# Task 2: Display the first 10 rows of your dataset. This will give you a broad idea of how your data looks like.\n"
   ]
  },
  {
   "cell_type": "code",
   "execution_count": null,
   "id": "7111a02a-5723-4702-b3b8-2211844e3669",
   "metadata": {},
   "outputs": [],
   "source": []
  },
  {
   "cell_type": "markdown",
   "id": "9c43b7fa-f2ed-480e-851c-faa12dc989c3",
   "metadata": {},
   "source": [
    "### Data Description"
   ]
  },
  {
   "cell_type": "code",
   "execution_count": null,
   "id": "15803e9a-7b2e-4adc-9d06-e08dc0577618",
   "metadata": {},
   "outputs": [],
   "source": [
    "# Task 3: Identify the data types for each feature (please do not eyeball it). You will need to include that in your\n",
    "report. [1 mark]\n",
    "Before doing further analysis, we need to clean our dataset. More specifically, we want to identify (and adjust\n",
    "for) missing values.\n",
    "\n",
    "\n"
   ]
  },
  {
   "cell_type": "code",
   "execution_count": null,
   "id": "7f010dd4-1d98-483c-894c-1fc4742cead6",
   "metadata": {},
   "outputs": [],
   "source": [
    "# Task 4: Write a function that calculates the ”null rate”for each column. The null rate is the number of null\n",
    "# values as a percentage of the total number of samples in the dataset. [1 mark]"
   ]
  },
  {
   "cell_type": "code",
   "execution_count": null,
   "id": "8004295d-c795-4838-a2c7-eb3decbe6da7",
   "metadata": {},
   "outputs": [],
   "source": [
    "# Task 5: Identify the number of unique values for each column. [1 mark]"
   ]
  },
  {
   "cell_type": "code",
   "execution_count": null,
   "id": "1b74f7da-aed0-4a9c-9510-f810df81fd50",
   "metadata": {},
   "outputs": [],
   "source": []
  },
  {
   "cell_type": "code",
   "execution_count": null,
   "id": "358f282f-a871-42d2-ae81-c3d4f94ef15d",
   "metadata": {},
   "outputs": [],
   "source": []
  },
  {
   "cell_type": "code",
   "execution_count": null,
   "id": "73d5c882-8bb3-4772-8699-2a644f043850",
   "metadata": {},
   "outputs": [],
   "source": []
  },
  {
   "cell_type": "markdown",
   "id": "a1f82686-8e5a-4d8f-81b8-654cd52e099a",
   "metadata": {},
   "source": [
    "### Data Manipulation"
   ]
  },
  {
   "cell_type": "code",
   "execution_count": null,
   "id": "fd2f4ded-3912-4e87-a03d-89ae2d407ba2",
   "metadata": {},
   "outputs": [],
   "source": [
    "Task 6: Add one column, total time, that is defined by the sum of food preparation time and delivery time.\n",
    "Units for food preparation time and delivery time are in minutes. So should the units for total time be.\n",
    "[2 mark]"
   ]
  },
  {
   "cell_type": "code",
   "execution_count": null,
   "id": "0c4b8206-d3ad-46fb-8c07-85e42c29562a",
   "metadata": {},
   "outputs": [],
   "source": []
  },
  {
   "cell_type": "code",
   "execution_count": null,
   "id": "a486baee-2e2a-4f9e-9c66-4003980f7c3c",
   "metadata": {},
   "outputs": [],
   "source": []
  },
  {
   "cell_type": "code",
   "execution_count": null,
   "id": "7cfcab28-815a-4061-bfbf-29a9fdeb1a6e",
   "metadata": {},
   "outputs": [],
   "source": []
  },
  {
   "cell_type": "code",
   "execution_count": null,
   "id": "afdd47dd-5bca-49c4-923e-38a0593218f8",
   "metadata": {},
   "outputs": [],
   "source": []
  },
  {
   "cell_type": "markdown",
   "id": "ef56f564-0334-40a8-bcfc-e3b1cd7ee344",
   "metadata": {},
   "source": [
    "### Satistics"
   ]
  },
  {
   "cell_type": "code",
   "execution_count": null,
   "id": "42caa2ce-23f9-4cc7-b178-55cfc0b8505b",
   "metadata": {},
   "outputs": [],
   "source": [
    "ask 7: Identify the different cusine types. [1 mark]\n",
    "Task 8: Find the number of restaurants per cuisine type. [1 mark]"
   ]
  },
  {
   "cell_type": "code",
   "execution_count": null,
   "id": "a4193a70-f49a-4a8c-b6e0-6b67be284c22",
   "metadata": {},
   "outputs": [],
   "source": []
  },
  {
   "cell_type": "code",
   "execution_count": null,
   "id": "dd20aa3a-1e29-48ef-b392-d0c915d1fd13",
   "metadata": {},
   "outputs": [],
   "source": []
  },
  {
   "cell_type": "code",
   "execution_count": null,
   "id": "9e899ce6-0154-4f2f-a3b7-b803602e631a",
   "metadata": {},
   "outputs": [],
   "source": []
  },
  {
   "cell_type": "code",
   "execution_count": null,
   "id": "b2ccac26-94ed-422c-a2c4-ddc57353dbe0",
   "metadata": {},
   "outputs": [],
   "source": []
  },
  {
   "cell_type": "markdown",
   "id": "8c3bf535-6bc8-463f-a563-8ebcecae0f3e",
   "metadata": {},
   "source": [
    "### Visualization"
   ]
  },
  {
   "cell_type": "code",
   "execution_count": null,
   "id": "62acc0a2-5501-41ec-8767-92437cba76f7",
   "metadata": {},
   "outputs": [],
   "source": [
    "In this section, you will be required to make plots that can be used to draw conclusions. Unless mentioned\n",
    "otherwise, you can use any plot that you believe is appropriate. Note that you will be graded on whether plot\n",
    "conveys the message that you want to convey. Remember to choose an appropriate (and consistent) colour\n",
    "palette to make your plots visually pleasing. Feel free to add anything that you think will make the graph look\n",
    "better.\n",
    "Task 9:\n",
    "(a) Using your results from Task 8, and using a pie chart display the count of restaurants per cuisine type. [1\n",
    "mark]\n",
    "(b) Show only the 5 cuisine types with most restaurants. [1 mark]\n",
    "Task 10:\n",
    "(a) Plot a graph that shows the 10 most popular restaurant name. [1 mark]\n",
    "(b) Highlight the top 3. [1 mark]\n",
    "Task 11: Plot a graph that shows the 10 most popular restaurants for each cuisine type and highlight the\n",
    "top 3. If there if less than 10 restaurants for a particular cuisine type, just show the maximum number of\n",
    "restaurants and highlight the top 3. [2 mark]\n",
    "Task 12:\n",
    "(a) What is the proportion of reviews for Shake Shack? [1 mark]\n",
    "(b) Use a pie chart to display your results. [1 mark]\n",
    "Task 13: Is there a link between ratings and food preparation time? Justify your answer. You may use an\n",
    "appropriate graph. [2 marks]"
   ]
  },
  {
   "cell_type": "code",
   "execution_count": null,
   "id": "e01d5b98-f8e1-41b5-a182-c92c391e9e1e",
   "metadata": {},
   "outputs": [],
   "source": []
  },
  {
   "cell_type": "code",
   "execution_count": null,
   "id": "d5b83027-31d1-4c77-abd7-af9153333efd",
   "metadata": {},
   "outputs": [],
   "source": []
  },
  {
   "cell_type": "code",
   "execution_count": null,
   "id": "0dde266d-d8a2-4f62-99ea-68d20619b8ef",
   "metadata": {},
   "outputs": [],
   "source": []
  },
  {
   "cell_type": "code",
   "execution_count": null,
   "id": "d10561b1-1f9a-44a7-a1c9-fa7704d04c1a",
   "metadata": {},
   "outputs": [],
   "source": []
  },
  {
   "cell_type": "code",
   "execution_count": null,
   "id": "ec67fbe4-cc28-416d-b833-4ec5c1fdc14f",
   "metadata": {},
   "outputs": [],
   "source": []
  },
  {
   "cell_type": "code",
   "execution_count": null,
   "id": "fae5bc51-f0d3-4163-96c6-81b0aee2eac4",
   "metadata": {},
   "outputs": [],
   "source": []
  },
  {
   "cell_type": "code",
   "execution_count": null,
   "id": "832dfead-4f76-4c07-a550-b420f27bba88",
   "metadata": {},
   "outputs": [],
   "source": []
  },
  {
   "cell_type": "code",
   "execution_count": null,
   "id": "a56532c4-5062-4498-89c9-b57901f439b0",
   "metadata": {},
   "outputs": [],
   "source": []
  },
  {
   "cell_type": "code",
   "execution_count": null,
   "id": "ec925a50-bc98-410f-92e3-655b9918c81b",
   "metadata": {},
   "outputs": [],
   "source": []
  },
  {
   "cell_type": "markdown",
   "id": "b7871e56-96d0-41b7-a9c9-84241b715838",
   "metadata": {},
   "source": [
    "### Conclusion"
   ]
  },
  {
   "cell_type": "code",
   "execution_count": null,
   "id": "06278dc7-2db0-436e-9835-303215cabf9a",
   "metadata": {},
   "outputs": [],
   "source": []
  },
  {
   "cell_type": "code",
   "execution_count": null,
   "id": "37ef63e6-b4a4-4ebe-89c2-6a665900f055",
   "metadata": {},
   "outputs": [],
   "source": []
  },
  {
   "cell_type": "code",
   "execution_count": null,
   "id": "1d54cb1f-0972-4d18-979b-31bb9fbe277a",
   "metadata": {},
   "outputs": [],
   "source": []
  },
  {
   "cell_type": "code",
   "execution_count": null,
   "id": "0d57c0de-685e-413b-b0a1-64fe5aedd77e",
   "metadata": {},
   "outputs": [],
   "source": []
  },
  {
   "cell_type": "code",
   "execution_count": null,
   "id": "a56bf40e-3adc-4008-8a02-d41b6fa9f559",
   "metadata": {},
   "outputs": [],
   "source": []
  },
  {
   "cell_type": "markdown",
   "id": "552288a7-1005-4ed3-9749-b6b8411ca4d1",
   "metadata": {},
   "source": [
    "### Learning"
   ]
  },
  {
   "cell_type": "code",
   "execution_count": null,
   "id": "a771a998-2dbc-40dd-a7be-20c18e632f98",
   "metadata": {},
   "outputs": [],
   "source": []
  },
  {
   "cell_type": "code",
   "execution_count": null,
   "id": "bef0717f-6bc3-460b-a8c6-8cc958a6984d",
   "metadata": {},
   "outputs": [],
   "source": []
  },
  {
   "cell_type": "code",
   "execution_count": null,
   "id": "5a4c76b4-6106-40d3-aadc-f162a6554f8f",
   "metadata": {},
   "outputs": [],
   "source": []
  },
  {
   "cell_type": "code",
   "execution_count": null,
   "id": "badc9969-f499-4898-8741-b8947b56eb8e",
   "metadata": {},
   "outputs": [],
   "source": []
  },
  {
   "cell_type": "code",
   "execution_count": null,
   "id": "874a51c7-2810-476b-8a4b-0c466c985072",
   "metadata": {},
   "outputs": [],
   "source": []
  },
  {
   "cell_type": "code",
   "execution_count": null,
   "id": "920925ff-413b-43a5-a7dc-97c08b30cefe",
   "metadata": {},
   "outputs": [],
   "source": []
  }
 ],
 "metadata": {
  "kernelspec": {
   "display_name": "Python 3 (ipykernel)",
   "language": "python",
   "name": "python3"
  },
  "language_info": {
   "codemirror_mode": {
    "name": "ipython",
    "version": 3
   },
   "file_extension": ".py",
   "mimetype": "text/x-python",
   "name": "python",
   "nbconvert_exporter": "python",
   "pygments_lexer": "ipython3",
   "version": "3.9.12"
  }
 },
 "nbformat": 4,
 "nbformat_minor": 5
}
